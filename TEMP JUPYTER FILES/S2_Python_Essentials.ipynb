{
 "cells": [
  {
   "cell_type": "code",
   "execution_count": null,
   "metadata": {},
   "outputs": [],
   "source": [
    "# What is Jupyter Notebook?\n",
    "\n",
    "# Jupyter is a data exploration kit.\n",
    "# Jupyter is a Python IDE = Integration Development Enviornment\n",
    "# Jupyter [Notebook] is one of its kind, and rarely used in most languages.\n",
    "# Notebook concept is widely used in data analytics, and rarely/almost not used in programming world.\n",
    "# Jupyter has some cloud implementation (you can say cloud alternatives), Azure Notebooks, AWS Sagemaker, Google Colab (Collaboratory)\n",
    "# Google colab is free, and try it!!\n",
    "# For python software development, developers use VSCode, Spyder, PyCharm\n",
    "# Conda-Anaconda evironment"
   ]
  },
  {
   "cell_type": "code",
   "execution_count": null,
   "metadata": {},
   "outputs": [],
   "source": [
    "# Python Essentials\n",
    "\n",
    "# Basic Syntax\n",
    "# Variables/Containers\n",
    "# Sequences/Data Structures\n",
    "# Conditional Statements\n",
    "# Iterations/Loops\n",
    "# Functions\n",
    "# Scripting vs OOPs (Object Orieneted Programming)\n",
    "# Basics of OOPs"
   ]
  },
  {
   "cell_type": "code",
   "execution_count": null,
   "metadata": {},
   "outputs": [],
   "source": [
    "# Jupyter Commands (Essentials)\n",
    "\n",
    "# Enter - Enters edit mode\n",
    "# Escape - Exists edit mode, and activate selecton/escape mode\n",
    "# B (in Escape mode) - Create new cell below that cell\n",
    "# A (in Escape mode) - Create new cell above that cell"
   ]
  },
  {
   "cell_type": "code",
   "execution_count": null,
   "metadata": {},
   "outputs": [],
   "source": [
    "# Additional Jupyter Commands\n",
    "\n",
    "# Run all in Escape mode\n",
    "# X - Cut the cell\n",
    "# C - Copy the cell\n",
    "# V - Paste the cell below the selected cell\n",
    "# DD (Press D twice) - Delete the cell\n",
    "# Z - Undo"
   ]
  },
  {
   "cell_type": "code",
   "execution_count": null,
   "metadata": {},
   "outputs": [],
   "source": [
    "# Jupyter commands for Active Cell (Cell in Edit Mode)\n",
    "\n",
    "# Ctrl-X - Cut the text\n",
    "# Ctrl-C - Copy the text\n",
    "# Ctrl-V - Paste the text\n",
    "# Ctrl-Z - Undo"
   ]
  },
  {
   "cell_type": "code",
   "execution_count": null,
   "metadata": {},
   "outputs": [],
   "source": [
    "# Running the Jupyter cell\n",
    "\n",
    "# -- Both are used to run the cell\n",
    "# CTRL+ENTER   -- Don't create a new cell below the last cell\n",
    "# SHIFT+ENTER -- Create a new cell below the last cell (Recommended)"
   ]
  },
  {
   "cell_type": "code",
   "execution_count": null,
   "metadata": {},
   "outputs": [],
   "source": [
    "# Box 3"
   ]
  },
  {
   "cell_type": "code",
   "execution_count": null,
   "metadata": {},
   "outputs": [],
   "source": [
    "# Box 2"
   ]
  },
  {
   "cell_type": "code",
   "execution_count": null,
   "metadata": {},
   "outputs": [],
   "source": [
    "# Box 3"
   ]
  },
  {
   "cell_type": "code",
   "execution_count": null,
   "metadata": {},
   "outputs": [],
   "source": [
    "# Box 1"
   ]
  },
  {
   "cell_type": "code",
   "execution_count": null,
   "metadata": {},
   "outputs": [],
   "source": [
    "# Hash symbol is used for Python comments\n",
    "\n",
    "# If you will write anything beginning with a hash symbol, it wont be processed by the Python Interpreter/Compiler\n",
    "# Interpreter/Compiler - Both of these are used to run the code/programs/programmed files\n",
    "# Interpreter - Interpreted languages - Python - Don't need to convert the code to object/machine code before running\n",
    "# Compiler - Compiled languages - C/C++, Java - Need to convert the code to object/machine code before running"
   ]
  },
  {
   "cell_type": "code",
   "execution_count": null,
   "metadata": {},
   "outputs": [],
   "source": [
    "# Python\n",
    "\n",
    "# If a number is assigned to the cell in Jupyter, it means its executed/run."
   ]
  },
  {
   "cell_type": "code",
   "execution_count": null,
   "metadata": {},
   "outputs": [],
   "source": [
    "# Python print function"
   ]
  },
  {
   "cell_type": "code",
   "execution_count": 1,
   "metadata": {},
   "outputs": [
    {
     "name": "stdout",
     "output_type": "stream",
     "text": [
      "hello\n"
     ]
    }
   ],
   "source": [
    "print(\"hello\")"
   ]
  },
  {
   "cell_type": "code",
   "execution_count": 2,
   "metadata": {},
   "outputs": [
    {
     "name": "stdout",
     "output_type": "stream",
     "text": [
      "hello\n"
     ]
    }
   ],
   "source": [
    "print (\"hello\")"
   ]
  },
  {
   "cell_type": "code",
   "execution_count": 3,
   "metadata": {},
   "outputs": [
    {
     "name": "stdout",
     "output_type": "stream",
     "text": [
      "hello world!\n"
     ]
    }
   ],
   "source": [
    "print (\"hello world!\")"
   ]
  },
  {
   "cell_type": "code",
   "execution_count": null,
   "metadata": {},
   "outputs": [],
   "source": [
    "# Python variables\n",
    "\n",
    "# Naming conventions/restrictions"
   ]
  },
  {
   "cell_type": "code",
   "execution_count": 4,
   "metadata": {},
   "outputs": [],
   "source": [
    "a = 5 # Integer"
   ]
  },
  {
   "cell_type": "code",
   "execution_count": 5,
   "metadata": {},
   "outputs": [],
   "source": [
    "b = 'hello' # String"
   ]
  },
  {
   "cell_type": "code",
   "execution_count": 6,
   "metadata": {},
   "outputs": [],
   "source": [
    "c = 1.1 # Decimal"
   ]
  },
  {
   "cell_type": "code",
   "execution_count": 8,
   "metadata": {},
   "outputs": [],
   "source": [
    "a = 5\n",
    "b = 'hello'\n",
    "c = 1.1"
   ]
  },
  {
   "cell_type": "code",
   "execution_count": 9,
   "metadata": {},
   "outputs": [
    {
     "data": {
      "text/plain": [
       "int"
      ]
     },
     "execution_count": 9,
     "metadata": {},
     "output_type": "execute_result"
    }
   ],
   "source": [
    "type(a)"
   ]
  },
  {
   "cell_type": "code",
   "execution_count": 10,
   "metadata": {},
   "outputs": [
    {
     "data": {
      "text/plain": [
       "str"
      ]
     },
     "execution_count": 10,
     "metadata": {},
     "output_type": "execute_result"
    }
   ],
   "source": [
    "type(b)"
   ]
  },
  {
   "cell_type": "code",
   "execution_count": 11,
   "metadata": {},
   "outputs": [
    {
     "data": {
      "text/plain": [
       "float"
      ]
     },
     "execution_count": 11,
     "metadata": {},
     "output_type": "execute_result"
    }
   ],
   "source": [
    "type(c)"
   ]
  },
  {
   "cell_type": "code",
   "execution_count": null,
   "metadata": {},
   "outputs": [],
   "source": [
    "# When a variable is able to consider its data type automatically,\n",
    "# Its called \"Auto-Typecasting\" or \"Dynamic Variable\"."
   ]
  },
  {
   "cell_type": "code",
   "execution_count": 12,
   "metadata": {},
   "outputs": [],
   "source": [
    "# Variable Declaration\n",
    "# Variable Assignment"
   ]
  },
  {
   "cell_type": "code",
   "execution_count": null,
   "metadata": {},
   "outputs": [],
   "source": [
    "# Variable Declaration: When you declare the variable name in the memory (RAM)\n",
    "# Variable Assignment: When you assign a value to the variable"
   ]
  },
  {
   "cell_type": "code",
   "execution_count": 15,
   "metadata": {},
   "outputs": [
    {
     "data": {
      "text/plain": [
       "2.0"
      ]
     },
     "execution_count": 15,
     "metadata": {},
     "output_type": "execute_result"
    }
   ],
   "source": [
    "d"
   ]
  },
  {
   "cell_type": "code",
   "execution_count": 16,
   "metadata": {},
   "outputs": [],
   "source": [
    "# Delete the variable\n",
    "\n",
    "del d # del [variable name]"
   ]
  },
  {
   "cell_type": "code",
   "execution_count": 18,
   "metadata": {},
   "outputs": [],
   "source": [
    "d = 10 # Declaring & Assigning the variable on same time"
   ]
  },
  {
   "cell_type": "code",
   "execution_count": 19,
   "metadata": {},
   "outputs": [
    {
     "data": {
      "text/plain": [
       "10"
      ]
     },
     "execution_count": 19,
     "metadata": {},
     "output_type": "execute_result"
    }
   ],
   "source": [
    "d"
   ]
  },
  {
   "cell_type": "code",
   "execution_count": 20,
   "metadata": {},
   "outputs": [
    {
     "data": {
      "text/plain": [
       "10"
      ]
     },
     "execution_count": 20,
     "metadata": {},
     "output_type": "execute_result"
    }
   ],
   "source": [
    "c\n",
    "d"
   ]
  },
  {
   "cell_type": "code",
   "execution_count": 21,
   "metadata": {},
   "outputs": [
    {
     "name": "stdout",
     "output_type": "stream",
     "text": [
      "1.1\n",
      "10\n"
     ]
    }
   ],
   "source": [
    "print (c)\n",
    "print (d)"
   ]
  },
  {
   "cell_type": "code",
   "execution_count": 30,
   "metadata": {},
   "outputs": [
    {
     "name": "stdout",
     "output_type": "stream",
     "text": [
      "Value of c: 1.1\n",
      "Value of d: 10\n"
     ]
    }
   ],
   "source": [
    "print (\"Value of c: \"+ str(c))\n",
    "print (\"Value of d: \"+ str(d))"
   ]
  },
  {
   "cell_type": "code",
   "execution_count": 24,
   "metadata": {},
   "outputs": [
    {
     "name": "stdout",
     "output_type": "stream",
     "text": [
      "Value of b: hello\n"
     ]
    }
   ],
   "source": [
    "print (\"Value of b: \"+b)"
   ]
  },
  {
   "cell_type": "code",
   "execution_count": 25,
   "metadata": {},
   "outputs": [
    {
     "data": {
      "text/plain": [
       "str"
      ]
     },
     "execution_count": 25,
     "metadata": {},
     "output_type": "execute_result"
    }
   ],
   "source": [
    "type(b)"
   ]
  },
  {
   "cell_type": "code",
   "execution_count": 26,
   "metadata": {},
   "outputs": [
    {
     "data": {
      "text/plain": [
       "float"
      ]
     },
     "execution_count": 26,
     "metadata": {},
     "output_type": "execute_result"
    }
   ],
   "source": [
    "type(c) # Type command is used to get the data-type of variable"
   ]
  },
  {
   "cell_type": "code",
   "execution_count": 27,
   "metadata": {},
   "outputs": [
    {
     "data": {
      "text/plain": [
       "int"
      ]
     },
     "execution_count": 27,
     "metadata": {},
     "output_type": "execute_result"
    }
   ],
   "source": [
    "type(d)"
   ]
  },
  {
   "cell_type": "code",
   "execution_count": null,
   "metadata": {},
   "outputs": [],
   "source": [
    "# Variable naming conventions"
   ]
  },
  {
   "cell_type": "code",
   "execution_count": 31,
   "metadata": {},
   "outputs": [],
   "source": [
    "# A variable name can only start with \"Alphabet\" or \"Underscore\"\n",
    "# A variable name contain \"Alphabets\", \"Numbers\" or \"Underscores\"\n",
    "# A variable name can never start from a \"Number\""
   ]
  },
  {
   "cell_type": "code",
   "execution_count": 32,
   "metadata": {},
   "outputs": [],
   "source": [
    "answer = \"Yes\""
   ]
  },
  {
   "cell_type": "code",
   "execution_count": 33,
   "metadata": {},
   "outputs": [],
   "source": [
    "answer1 = \"Yes\""
   ]
  },
  {
   "cell_type": "code",
   "execution_count": 34,
   "metadata": {},
   "outputs": [],
   "source": [
    "my_answer = \"Yes\""
   ]
  },
  {
   "cell_type": "code",
   "execution_count": 35,
   "metadata": {},
   "outputs": [],
   "source": [
    "my_answer_one = \"Yes\""
   ]
  },
  {
   "cell_type": "code",
   "execution_count": 36,
   "metadata": {},
   "outputs": [
    {
     "ename": "SyntaxError",
     "evalue": "invalid syntax (<ipython-input-36-af1ba0ebf414>, line 1)",
     "output_type": "error",
     "traceback": [
      "\u001b[1;36m  File \u001b[1;32m\"<ipython-input-36-af1ba0ebf414>\"\u001b[1;36m, line \u001b[1;32m1\u001b[0m\n\u001b[1;33m    1answer = \"yes\"\u001b[0m\n\u001b[1;37m          ^\u001b[0m\n\u001b[1;31mSyntaxError\u001b[0m\u001b[1;31m:\u001b[0m invalid syntax\n"
     ]
    }
   ],
   "source": [
    "1answer = \"yes\" # Not valid"
   ]
  },
  {
   "cell_type": "code",
   "execution_count": 37,
   "metadata": {},
   "outputs": [],
   "source": [
    "_answer = \"Yes\"\n",
    "\n",
    "# But I wouldn't prefer to use them, because its a convention of defining \n",
    "# secure (security sensitive) variables in OOP"
   ]
  },
  {
   "cell_type": "code",
   "execution_count": null,
   "metadata": {},
   "outputs": [],
   "source": [
    "# What is a variable?\n",
    "\n",
    "# Variable is container/placeholder for data (string, numeric or any other)"
   ]
  },
  {
   "cell_type": "code",
   "execution_count": null,
   "metadata": {},
   "outputs": [],
   "source": [
    "# variable\n",
    "# constant - In some programming languages (C/C++/Java), you can define constants, which means their value can't be changed\n",
    "# But we dont have constant types in Python\n",
    "# So we use another convention for constant values"
   ]
  },
  {
   "cell_type": "code",
   "execution_count": 45,
   "metadata": {},
   "outputs": [
    {
     "name": "stdout",
     "output_type": "stream",
     "text": [
      "314.2857142857143\n"
     ]
    }
   ],
   "source": [
    "# Area of a Circle\n",
    "\n",
    "PI = 22/7 # Use all caps to define a constant (Remember, that's a convetion, and you're still using a variable, which \n",
    "          # means its value can be changed.)\n",
    "# PI*r^2\n",
    "\n",
    "r = 10\n",
    "print (PI * (r**2) ) # r**2 - exponent value representation"
   ]
  },
  {
   "cell_type": "code",
   "execution_count": 56,
   "metadata": {},
   "outputs": [
    {
     "name": "stdout",
     "output_type": "stream",
     "text": [
      "62.857142857142854\n"
     ]
    }
   ],
   "source": [
    "# Circumference of a Circle\n",
    "\n",
    "PI = 22/7 # Use all caps to define a constant (Remember, that's a convetion, and you're still using a variable, which \n",
    "          # means its value can be changed.)\n",
    "# PI*r^2\n",
    "\n",
    "r = 10\n",
    "print (2 * PI * r)"
   ]
  },
  {
   "cell_type": "code",
   "execution_count": null,
   "metadata": {},
   "outputs": [],
   "source": [
    "# BODMAS\n",
    "# Brackets, Exponents, Division, Multiplication, Addition, Subtraction\n",
    "\n",
    "# Operator Precendence\n",
    "# "
   ]
  },
  {
   "cell_type": "code",
   "execution_count": null,
   "metadata": {},
   "outputs": [],
   "source": [
    "# Arithmatic Operators\n",
    "\n",
    "# / - Division\n",
    "# * - Multiplication\n",
    "# + - Addition\n",
    "# - - Subtraction\n",
    "# ** - Exponential\n",
    "# // - Division to Floor\n",
    "# % - Remainder/Modulus"
   ]
  },
  {
   "cell_type": "code",
   "execution_count": 46,
   "metadata": {},
   "outputs": [
    {
     "data": {
      "text/plain": [
       "7"
      ]
     },
     "execution_count": 46,
     "metadata": {},
     "output_type": "execute_result"
    }
   ],
   "source": [
    "2*2+3"
   ]
  },
  {
   "cell_type": "code",
   "execution_count": 48,
   "metadata": {},
   "outputs": [
    {
     "data": {
      "text/plain": [
       "5"
      ]
     },
     "execution_count": 48,
     "metadata": {},
     "output_type": "execute_result"
    }
   ],
   "source": [
    "int(2/2)*2+3"
   ]
  },
  {
   "cell_type": "code",
   "execution_count": 49,
   "metadata": {},
   "outputs": [
    {
     "data": {
      "text/plain": [
       "5.0"
      ]
     },
     "execution_count": 49,
     "metadata": {},
     "output_type": "execute_result"
    }
   ],
   "source": [
    "2/2*2+3"
   ]
  },
  {
   "cell_type": "code",
   "execution_count": 50,
   "metadata": {},
   "outputs": [
    {
     "data": {
      "text/plain": [
       "5"
      ]
     },
     "execution_count": 50,
     "metadata": {},
     "output_type": "execute_result"
    }
   ],
   "source": [
    "2//2*2+3"
   ]
  },
  {
   "cell_type": "code",
   "execution_count": 51,
   "metadata": {},
   "outputs": [
    {
     "data": {
      "text/plain": [
       "1"
      ]
     },
     "execution_count": 51,
     "metadata": {},
     "output_type": "execute_result"
    }
   ],
   "source": [
    "3//2"
   ]
  },
  {
   "cell_type": "code",
   "execution_count": 54,
   "metadata": {},
   "outputs": [
    {
     "data": {
      "text/plain": [
       "2"
      ]
     },
     "execution_count": 54,
     "metadata": {},
     "output_type": "execute_result"
    }
   ],
   "source": [
    "import math # lib import\n",
    "math.ceil(3/2) # called the lib function"
   ]
  },
  {
   "cell_type": "code",
   "execution_count": 57,
   "metadata": {},
   "outputs": [],
   "source": [
    "p1_x = 50\n",
    "p1_y = 40\n",
    "p2_x = 100\n",
    "p2_y = 80\n",
    "\n",
    "# This equation is base equation for k-Nearest Neighbor (kNN) algorithm (Machine Learning ALgorithm)\n",
    "# Euclidean distance = sqrt ( (x1 - x2)^2 + (y1 - y2)^2 )\n",
    "# Squared distance = (x1 - x2)^2 + (y1 - y2)\n",
    "\n",
    "import math # import [package name] # package can be known as library aka. lib aka. module\n",
    "\n",
    "res1 = math.sqrt ( (p1_x - p2_x)**2 + (p1_y - p2_y)**2 )\n",
    "res2 = math.sqrt ( (p1_x - p2_x)**2 + (p2_y - p1_y)**2 )"
   ]
  },
  {
   "cell_type": "code",
   "execution_count": 58,
   "metadata": {},
   "outputs": [
    {
     "name": "stdout",
     "output_type": "stream",
     "text": [
      "64.03124237432849\n",
      "64.03124237432849\n"
     ]
    }
   ],
   "source": [
    "print (res1)\n",
    "print (res2)"
   ]
  },
  {
   "cell_type": "code",
   "execution_count": null,
   "metadata": {},
   "outputs": [],
   "source": [
    "# Equations\n",
    "\n",
    "# Mean\n",
    "a1 =\n",
    "a2 = \n",
    "a3 =\n"
   ]
  },
  {
   "cell_type": "code",
   "execution_count": 63,
   "metadata": {},
   "outputs": [
    {
     "name": "stdout",
     "output_type": "stream",
     "text": [
      "3.5\n"
     ]
    }
   ],
   "source": [
    "# 4x + 2 = 16\n",
    "x = (16 - 2)/4\n",
    "print (x)"
   ]
  },
  {
   "cell_type": "markdown",
   "metadata": {},
   "source": [
    "# Python Exercises"
   ]
  },
  {
   "cell_type": "code",
   "execution_count": null,
   "metadata": {},
   "outputs": [],
   "source": [
    "quantity_purchased = 20\n",
    "item_price = 30\n",
    "# Write the code to calculate the total price.\n",
    "total_price = "
   ]
  },
  {
   "cell_type": "code",
   "execution_count": null,
   "metadata": {},
   "outputs": [],
   "source": [
    "# Then print value of total_price with a custom message using print statement.\n",
    "print "
   ]
  },
  {
   "cell_type": "code",
   "execution_count": null,
   "metadata": {},
   "outputs": [],
   "source": [
    "# Location Coordinations are given for different cities\n",
    "Toronto_x = 43.6532\n",
    "Toronto_y = 79.3832\n",
    "Calgary_x = 51.0447\n",
    "Calgary_y = 114.0719\n",
    "\n",
    "# Calcualte the dsitance between Toronto & Calgary (Hint: Import Math for sqrt function)\n",
    "distance = "
   ]
  },
  {
   "cell_type": "code",
   "execution_count": null,
   "metadata": {},
   "outputs": [],
   "source": [
    "# City C is 2.5 hours away from City A, when driving at 80 kilometers per hour.\n",
    "time_c_a = 2.5\n",
    "distance_c_a = \n",
    "# City C is 3 hours away from City B, when driving at 60 kilometers per hour.\n",
    "time_c_b = 3\n",
    "distance_c_b = \n",
    "# Calculate distance between City A and City B. (Hint: Its sum distances between City C and City A, and City C and City B.)\n",
    "distance_c_b = `"
   ]
  }
 ],
 "metadata": {
  "kernelspec": {
   "display_name": "Python 3",
   "language": "python",
   "name": "python3"
  },
  "language_info": {
   "codemirror_mode": {
    "name": "ipython",
    "version": 3
   },
   "file_extension": ".py",
   "mimetype": "text/x-python",
   "name": "python",
   "nbconvert_exporter": "python",
   "pygments_lexer": "ipython3",
   "version": "3.7.3"
  }
 },
 "nbformat": 4,
 "nbformat_minor": 2
}
