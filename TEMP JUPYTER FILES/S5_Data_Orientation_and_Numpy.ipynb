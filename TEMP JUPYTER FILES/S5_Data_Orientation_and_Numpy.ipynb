{
 "cells": [
  {
   "cell_type": "code",
   "execution_count": 1,
   "metadata": {},
   "outputs": [],
   "source": [
    "import numpy"
   ]
  },
  {
   "cell_type": "code",
   "execution_count": 3,
   "metadata": {},
   "outputs": [],
   "source": [
    "arr = numpy.genfromtxt('body_fat.csv', delimiter=',')"
   ]
  },
  {
   "cell_type": "code",
   "execution_count": 5,
   "metadata": {},
   "outputs": [],
   "source": [
    "?numpy.genfromtxt"
   ]
  },
  {
   "cell_type": "code",
   "execution_count": 4,
   "metadata": {},
   "outputs": [
    {
     "data": {
      "text/plain": [
       "array([ nan, 25.3, 29.3, 37.7, 32.8, 24.6, 26.5, 21.2, 28.4, 24. , 28.7,\n",
       "       37.4, 30.7, 36.7, 28.2, 26.4, 37.1, 31.1, 43.1, 34.1, 26.7, 30.9,\n",
       "       30. , 22.1, 24.4, 22.5, 24.9, 18.2, 27.3, 25.9, 28.3, 18.7, 22.4,\n",
       "       23.6, 26.8, 17.8, 27.4, 16.8, 26.1, 20.8, 22.7, 20.2, 20.3, 31.9,\n",
       "       22.9, 25.3, 17.3, 41. , 25.8, 36.6, 27.8, 39.4, 36.4, 46.8, 40.5,\n",
       "       43. , 39.5, 39.4, 24.8, 35. , 25.3, 42.5, 27.8, 35.8, 39.2, 38.3,\n",
       "       34.1, 39.9, 32.5, 29.9, 32. , 23. , 28.5, 26.4, 33.9, 29.4, 29.4,\n",
       "       21. , 22.4, 25.3, 20.2, 22.5, 23.4, 29.5, 21.9, 19.2, 28.6, 23.4,\n",
       "       23.2, 18.1, 31.4, 22.9, 25.6])"
      ]
     },
     "execution_count": 4,
     "metadata": {},
     "output_type": "execute_result"
    }
   ],
   "source": [
    "arr"
   ]
  },
  {
   "cell_type": "code",
   "execution_count": 6,
   "metadata": {},
   "outputs": [],
   "source": [
    "arr2 = numpy.genfromtxt('body_fat.csv', delimiter=',', skip_header=1)"
   ]
  },
  {
   "cell_type": "code",
   "execution_count": 7,
   "metadata": {},
   "outputs": [
    {
     "data": {
      "text/plain": [
       "array([25.3, 29.3, 37.7, 32.8, 24.6, 26.5, 21.2, 28.4, 24. , 28.7, 37.4,\n",
       "       30.7, 36.7, 28.2, 26.4, 37.1, 31.1, 43.1, 34.1, 26.7, 30.9, 30. ,\n",
       "       22.1, 24.4, 22.5, 24.9, 18.2, 27.3, 25.9, 28.3, 18.7, 22.4, 23.6,\n",
       "       26.8, 17.8, 27.4, 16.8, 26.1, 20.8, 22.7, 20.2, 20.3, 31.9, 22.9,\n",
       "       25.3, 17.3, 41. , 25.8, 36.6, 27.8, 39.4, 36.4, 46.8, 40.5, 43. ,\n",
       "       39.5, 39.4, 24.8, 35. , 25.3, 42.5, 27.8, 35.8, 39.2, 38.3, 34.1,\n",
       "       39.9, 32.5, 29.9, 32. , 23. , 28.5, 26.4, 33.9, 29.4, 29.4, 21. ,\n",
       "       22.4, 25.3, 20.2, 22.5, 23.4, 29.5, 21.9, 19.2, 28.6, 23.4, 23.2,\n",
       "       18.1, 31.4, 22.9, 25.6])"
      ]
     },
     "execution_count": 7,
     "metadata": {},
     "output_type": "execute_result"
    }
   ],
   "source": [
    "arr2"
   ]
  },
  {
   "cell_type": "code",
   "execution_count": 9,
   "metadata": {},
   "outputs": [],
   "source": [
    "numpy.savetxt('array2.csv', [arr2], delimiter=',', fmt='%f')"
   ]
  },
  {
   "cell_type": "code",
   "execution_count": null,
   "metadata": {},
   "outputs": [],
   "source": []
  }
 ],
 "metadata": {
  "kernelspec": {
   "display_name": "Python 3",
   "language": "python",
   "name": "python3"
  },
  "language_info": {
   "codemirror_mode": {
    "name": "ipython",
    "version": 3
   },
   "file_extension": ".py",
   "mimetype": "text/x-python",
   "name": "python",
   "nbconvert_exporter": "python",
   "pygments_lexer": "ipython3",
   "version": "3.7.3"
  }
 },
 "nbformat": 4,
 "nbformat_minor": 2
}
