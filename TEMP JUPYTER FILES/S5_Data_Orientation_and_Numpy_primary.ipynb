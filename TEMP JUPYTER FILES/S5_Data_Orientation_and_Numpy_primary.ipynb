{
 "cells": [
  {
   "cell_type": "code",
   "execution_count": 1,
   "metadata": {},
   "outputs": [],
   "source": [
    "# Python packages\n",
    "\n",
    "# A python package is a library, which contains functions to perform specific task."
   ]
  },
  {
   "cell_type": "code",
   "execution_count": 26,
   "metadata": {},
   "outputs": [],
   "source": [
    "#Import is used to call the package (load package)\n",
    "import numpy as np  #\"Numerical Python\", Number Python\n",
    "# np is treated as an alias"
   ]
  },
  {
   "cell_type": "code",
   "execution_count": 28,
   "metadata": {},
   "outputs": [
    {
     "data": {
      "text/plain": [
       "array([ nan, 25.3, 29.3, 37.7, 32.8, 24.6, 26.5, 21.2, 28.4, 24. , 28.7,\n",
       "       37.4, 30.7, 36.7, 28.2, 26.4, 37.1, 31.1, 43.1, 34.1, 26.7, 30.9,\n",
       "       30. , 22.1, 24.4, 22.5, 24.9, 18.2, 27.3, 25.9, 28.3, 18.7, 22.4,\n",
       "       23.6, 26.8, 17.8, 27.4, 16.8, 26.1, 20.8, 22.7, 20.2, 20.3, 31.9,\n",
       "       22.9, 25.3, 17.3, 41. , 25.8, 36.6, 27.8, 39.4, 36.4, 46.8, 40.5,\n",
       "       43. , 39.5, 39.4, 24.8, 35. , 25.3, 42.5, 27.8, 35.8, 39.2, 38.3,\n",
       "       34.1, 39.9, 32.5, 29.9, 32. , 23. , 28.5, 26.4, 33.9, 29.4, 29.4,\n",
       "       21. , 22.4, 25.3, 20.2, 22.5, 23.4, 29.5, 21.9, 19.2, 28.6, 23.4,\n",
       "       23.2, 18.1, 31.4, 22.9, 25.6])"
      ]
     },
     "execution_count": 28,
     "metadata": {},
     "output_type": "execute_result"
    }
   ],
   "source": [
    "np.genfromtxt('body_fat.csv')"
   ]
  },
  {
   "cell_type": "code",
   "execution_count": 29,
   "metadata": {},
   "outputs": [],
   "source": [
    "#Function help\n",
    "?np.genfromtxt"
   ]
  },
  {
   "cell_type": "code",
   "execution_count": 30,
   "metadata": {},
   "outputs": [
    {
     "data": {
      "text/plain": [
       "array([25.3, 29.3, 37.7, 32.8, 24.6, 26.5, 21.2, 28.4, 24. , 28.7, 37.4,\n",
       "       30.7, 36.7, 28.2, 26.4, 37.1, 31.1, 43.1, 34.1, 26.7, 30.9, 30. ,\n",
       "       22.1, 24.4, 22.5, 24.9, 18.2, 27.3, 25.9, 28.3, 18.7, 22.4, 23.6,\n",
       "       26.8, 17.8, 27.4, 16.8, 26.1, 20.8, 22.7, 20.2, 20.3, 31.9, 22.9,\n",
       "       25.3, 17.3, 41. , 25.8, 36.6, 27.8, 39.4, 36.4, 46.8, 40.5, 43. ,\n",
       "       39.5, 39.4, 24.8, 35. , 25.3, 42.5, 27.8, 35.8, 39.2, 38.3, 34.1,\n",
       "       39.9, 32.5, 29.9, 32. , 23. , 28.5, 26.4, 33.9, 29.4, 29.4, 21. ,\n",
       "       22.4, 25.3, 20.2, 22.5, 23.4, 29.5, 21.9, 19.2, 28.6, 23.4, 23.2,\n",
       "       18.1, 31.4, 22.9, 25.6])"
      ]
     },
     "execution_count": 30,
     "metadata": {},
     "output_type": "execute_result"
    }
   ],
   "source": [
    "np.genfromtxt('body_fat.csv', skip_header=True)"
   ]
  },
  {
   "cell_type": "code",
   "execution_count": 8,
   "metadata": {},
   "outputs": [],
   "source": [
    "my_array = numpy.genfromtxt('body_fat.csv', skip_header=True)"
   ]
  },
  {
   "cell_type": "code",
   "execution_count": 9,
   "metadata": {},
   "outputs": [
    {
     "data": {
      "text/plain": [
       "array([25.3, 29.3, 37.7, 32.8, 24.6, 26.5, 21.2, 28.4, 24. , 28.7, 37.4,\n",
       "       30.7, 36.7, 28.2, 26.4, 37.1, 31.1, 43.1, 34.1, 26.7, 30.9, 30. ,\n",
       "       22.1, 24.4, 22.5, 24.9, 18.2, 27.3, 25.9, 28.3, 18.7, 22.4, 23.6,\n",
       "       26.8, 17.8, 27.4, 16.8, 26.1, 20.8, 22.7, 20.2, 20.3, 31.9, 22.9,\n",
       "       25.3, 17.3, 41. , 25.8, 36.6, 27.8, 39.4, 36.4, 46.8, 40.5, 43. ,\n",
       "       39.5, 39.4, 24.8, 35. , 25.3, 42.5, 27.8, 35.8, 39.2, 38.3, 34.1,\n",
       "       39.9, 32.5, 29.9, 32. , 23. , 28.5, 26.4, 33.9, 29.4, 29.4, 21. ,\n",
       "       22.4, 25.3, 20.2, 22.5, 23.4, 29.5, 21.9, 19.2, 28.6, 23.4, 23.2,\n",
       "       18.1, 31.4, 22.9, 25.6])"
      ]
     },
     "execution_count": 9,
     "metadata": {},
     "output_type": "execute_result"
    }
   ],
   "source": [
    "my_array"
   ]
  },
  {
   "cell_type": "code",
   "execution_count": 10,
   "metadata": {},
   "outputs": [
    {
     "data": {
      "text/plain": [
       "numpy.ndarray"
      ]
     },
     "execution_count": 10,
     "metadata": {},
     "output_type": "execute_result"
    }
   ],
   "source": [
    "type(my_array)"
   ]
  },
  {
   "cell_type": "code",
   "execution_count": 11,
   "metadata": {},
   "outputs": [],
   "source": [
    "# Work with data, and bit of summary statistics on that data"
   ]
  },
  {
   "cell_type": "code",
   "execution_count": null,
   "metadata": {},
   "outputs": [],
   "source": [
    "# \"Five Number Summary\"\n",
    "# N - NUMBER OF VALUES/ELEMENTS\n",
    "# MIN - MINIMUM VALUE\n",
    "# MAX - MAXIMUM VALUE\n",
    "# MEAN - AVERAGE\n",
    "# MEDIAN - MEDIAN\n",
    "# STD - STANDARD DEVIATION\n",
    "# VAR - VARIANCE\n",
    "\n",
    "# MOST POPULAR FIVE-NUMBER SUMMARY -- # N, MIN, MAX, MEAN, STD\n",
    "# N, MIN, MAX, MEDIAN, STD"
   ]
  },
  {
   "cell_type": "code",
   "execution_count": 12,
   "metadata": {},
   "outputs": [
    {
     "data": {
      "text/plain": [
       "92"
      ]
     },
     "execution_count": 12,
     "metadata": {},
     "output_type": "execute_result"
    }
   ],
   "source": [
    "len(my_array)"
   ]
  },
  {
   "cell_type": "code",
   "execution_count": 13,
   "metadata": {},
   "outputs": [
    {
     "data": {
      "text/plain": [
       "16.8"
      ]
     },
     "execution_count": 13,
     "metadata": {},
     "output_type": "execute_result"
    }
   ],
   "source": [
    "my_array.min()"
   ]
  },
  {
   "cell_type": "code",
   "execution_count": 14,
   "metadata": {},
   "outputs": [
    {
     "data": {
      "text/plain": [
       "46.8"
      ]
     },
     "execution_count": 14,
     "metadata": {},
     "output_type": "execute_result"
    }
   ],
   "source": [
    "my_array.max()"
   ]
  },
  {
   "cell_type": "code",
   "execution_count": 15,
   "metadata": {},
   "outputs": [
    {
     "data": {
      "text/plain": [
       "28.565217391304348"
      ]
     },
     "execution_count": 15,
     "metadata": {},
     "output_type": "execute_result"
    }
   ],
   "source": [
    "my_array.mean()"
   ]
  },
  {
   "cell_type": "code",
   "execution_count": 16,
   "metadata": {},
   "outputs": [
    {
     "data": {
      "text/plain": [
       "6.951140581769558"
      ]
     },
     "execution_count": 16,
     "metadata": {},
     "output_type": "execute_result"
    }
   ],
   "source": [
    "my_array.std()"
   ]
  },
  {
   "cell_type": "code",
   "execution_count": 17,
   "metadata": {},
   "outputs": [
    {
     "data": {
      "text/plain": [
       "(92, 16.8, 46.8, 28.565217391304348, 6.951140581769558)"
      ]
     },
     "execution_count": 17,
     "metadata": {},
     "output_type": "execute_result"
    }
   ],
   "source": [
    "len(my_array), my_array.min(), my_array.max(), my_array.mean(), my_array.std()"
   ]
  },
  {
   "cell_type": "code",
   "execution_count": 18,
   "metadata": {},
   "outputs": [
    {
     "data": {
      "text/plain": [
       "numpy.ndarray"
      ]
     },
     "execution_count": 18,
     "metadata": {},
     "output_type": "execute_result"
    }
   ],
   "source": [
    "type(my_array)"
   ]
  },
  {
   "cell_type": "code",
   "execution_count": null,
   "metadata": {},
   "outputs": [],
   "source": [
    "# Distribution of data"
   ]
  },
  {
   "cell_type": "code",
   "execution_count": null,
   "metadata": {},
   "outputs": [],
   "source": [
    "# Q1: Is the data normal or not?"
   ]
  },
  {
   "cell_type": "code",
   "execution_count": null,
   "metadata": {},
   "outputs": [],
   "source": [
    "# 1. Check if the mean value is close to average of min and max value. However, this is a rough estimate."
   ]
  },
  {
   "cell_type": "code",
   "execution_count": 19,
   "metadata": {},
   "outputs": [
    {
     "data": {
      "text/plain": [
       "(31.799999999999997, 28.565217391304348)"
      ]
     },
     "execution_count": 19,
     "metadata": {},
     "output_type": "execute_result"
    }
   ],
   "source": [
    "(my_array.min()+my_array.max()) / 2, my_array.mean()"
   ]
  },
  {
   "cell_type": "code",
   "execution_count": null,
   "metadata": {},
   "outputs": [],
   "source": [
    "# 2. Check the maximum and minimum values against the value of 3rd standard deviation limits"
   ]
  },
  {
   "cell_type": "code",
   "execution_count": 20,
   "metadata": {},
   "outputs": [
    {
     "data": {
      "text/plain": [
       "49.418639136613024"
      ]
     },
     "execution_count": 20,
     "metadata": {},
     "output_type": "execute_result"
    }
   ],
   "source": [
    " my_array.mean()+ 3*my_array.std()"
   ]
  },
  {
   "cell_type": "code",
   "execution_count": 21,
   "metadata": {},
   "outputs": [
    {
     "data": {
      "text/plain": [
       "7.711795645995672"
      ]
     },
     "execution_count": 21,
     "metadata": {},
     "output_type": "execute_result"
    }
   ],
   "source": [
    " my_array.mean()- 3*my_array.std()"
   ]
  },
  {
   "cell_type": "code",
   "execution_count": null,
   "metadata": {},
   "outputs": [],
   "source": [
    "# Visualizing the data"
   ]
  },
  {
   "cell_type": "code",
   "execution_count": 36,
   "metadata": {},
   "outputs": [],
   "source": [
    "import matplotlib.pyplot as plt"
   ]
  },
  {
   "cell_type": "code",
   "execution_count": 53,
   "metadata": {},
   "outputs": [
    {
     "data": {
      "text/plain": [
       "(array([ 7., 13., 17., 18., 10.,  7.,  8.,  7.,  4.,  1.]),\n",
       " array([16.8, 19.8, 22.8, 25.8, 28.8, 31.8, 34.8, 37.8, 40.8, 43.8, 46.8]),\n",
       " <a list of 10 Patch objects>)"
      ]
     },
     "execution_count": 53,
     "metadata": {},
     "output_type": "execute_result"
    },
    {
     "data": {
      "image/png": "[encoded data removed]",
      "text/plain": [
       "<Figure size 432x288 with 1 Axes>"
      ]
     },
     "metadata": {
      "needs_background": "light"
     },
     "output_type": "display_data"
    }
   ],
   "source": [
    "plt.hist(my_array, bins=10) #distribution plot = histogram"
   ]
  },
  {
   "cell_type": "code",
   "execution_count": 42,
   "metadata": {},
   "outputs": [],
   "source": [
    "arr2 = np.genfromtxt('data.txt', skip_header=1)"
   ]
  },
  {
   "cell_type": "code",
   "execution_count": 43,
   "metadata": {},
   "outputs": [
    {
     "data": {
      "text/plain": [
       "(43, 1.29, 275.0, 20.308604651162796, 46.79135457720027)"
      ]
     },
     "execution_count": 43,
     "metadata": {},
     "output_type": "execute_result"
    }
   ],
   "source": [
    "len(arr2), arr2.min(), arr2.max(), arr2.mean(), arr2.std()"
   ]
  },
  {
   "cell_type": "code",
   "execution_count": 44,
   "metadata": {},
   "outputs": [
    {
     "data": {
      "text/plain": [
       "(138.145, 20.308604651162796)"
      ]
     },
     "execution_count": 44,
     "metadata": {},
     "output_type": "execute_result"
    }
   ],
   "source": [
    "(arr2.min()+arr2.max())/2, arr2.mean()"
   ]
  },
  {
   "cell_type": "code",
   "execution_count": 45,
   "metadata": {},
   "outputs": [
    {
     "data": {
      "text/plain": [
       "160.6826683827636"
      ]
     },
     "execution_count": 45,
     "metadata": {},
     "output_type": "execute_result"
    }
   ],
   "source": [
    "arr2.mean() + 3*arr2.std()"
   ]
  },
  {
   "cell_type": "code",
   "execution_count": 46,
   "metadata": {},
   "outputs": [
    {
     "data": {
      "text/plain": [
       "-120.06545908043802"
      ]
     },
     "execution_count": 46,
     "metadata": {},
     "output_type": "execute_result"
    }
   ],
   "source": [
    "arr2.mean() - 3*arr2.std()"
   ]
  },
  {
   "cell_type": "code",
   "execution_count": 50,
   "metadata": {},
   "outputs": [
    {
     "data": {
      "text/plain": [
       "(array([28.,  4.,  8.,  0.,  0.,  0.,  0.,  0.,  0.,  0.,  0.,  0.,  0.,\n",
       "         2.,  0.,  0.,  0.,  0.,  0.,  0.,  0.,  0.,  0.,  0.,  0.,  0.,\n",
       "         0.,  0.,  0.,  1.]),\n",
       " array([  1.29      ,  10.41366667,  19.53733333,  28.661     ,\n",
       "         37.78466667,  46.90833333,  56.032     ,  65.15566667,\n",
       "         74.27933333,  83.403     ,  92.52666667, 101.65033333,\n",
       "        110.774     , 119.89766667, 129.02133333, 138.145     ,\n",
       "        147.26866667, 156.39233333, 165.516     , 174.63966667,\n",
       "        183.76333333, 192.887     , 202.01066667, 211.13433333,\n",
       "        220.258     , 229.38166667, 238.50533333, 247.629     ,\n",
       "        256.75266667, 265.87633333, 275.        ]),\n",
       " <a list of 30 Patch objects>)"
      ]
     },
     "execution_count": 50,
     "metadata": {},
     "output_type": "execute_result"
    },
    {
     "data": {
      "image/png": "[encoded data removed]",
      "text/plain": [
       "<Figure size 432x288 with 1 Axes>"
      ]
     },
     "metadata": {
      "needs_background": "light"
     },
     "output_type": "display_data"
    }
   ],
   "source": [
    "plt.hist(arr2, bins=30)"
   ]
  },
  {
   "cell_type": "code",
   "execution_count": 55,
   "metadata": {},
   "outputs": [],
   "source": [
    "arr3 = np.genfromtxt('age.dat', skip_header=1)"
   ]
  },
  {
   "cell_type": "code",
   "execution_count": 58,
   "metadata": {},
   "outputs": [
    {
     "data": {
      "text/plain": [
       "(array([ 82., 104.,  98.,   0.,  82.,  24.,   0.,   3.,   1.,   1.]),\n",
       " array([15. , 15.7, 16.4, 17.1, 17.8, 18.5, 19.2, 19.9, 20.6, 21.3, 22. ]),\n",
       " <a list of 10 Patch objects>)"
      ]
     },
     "execution_count": 58,
     "metadata": {},
     "output_type": "execute_result"
    },
    {
     "data": {
      "image/png": "[encoded data removed]",
      "text/plain": [
       "<Figure size 432x288 with 1 Axes>"
      ]
     },
     "metadata": {
      "needs_background": "light"
     },
     "output_type": "display_data"
    }
   ],
   "source": [
    "plt.hist(arr3)"
   ]
  },
  {
   "cell_type": "code",
   "execution_count": 57,
   "metadata": {},
   "outputs": [
    {
     "data": {
      "text/plain": [
       "(array([ 82.,   0.,   0.,   0., 104.,   0.,   0.,   0.,  98.,   0.,   0.,\n",
       "          0.,  82.,   0.,   0.,   0.,   0.,  24.,   0.,   0.,   0.,   3.,\n",
       "          0.,   0.,   0.,   1.,   0.,   0.,   0.,   1.]),\n",
       " array([15.        , 15.23333333, 15.46666667, 15.7       , 15.93333333,\n",
       "        16.16666667, 16.4       , 16.63333333, 16.86666667, 17.1       ,\n",
       "        17.33333333, 17.56666667, 17.8       , 18.03333333, 18.26666667,\n",
       "        18.5       , 18.73333333, 18.96666667, 19.2       , 19.43333333,\n",
       "        19.66666667, 19.9       , 20.13333333, 20.36666667, 20.6       ,\n",
       "        20.83333333, 21.06666667, 21.3       , 21.53333333, 21.76666667,\n",
       "        22.        ]),\n",
       " <a list of 30 Patch objects>)"
      ]
     },
     "execution_count": 57,
     "metadata": {},
     "output_type": "execute_result"
    },
    {
     "data": {
      "image/png": "[encoded data removed]",
      "text/plain": [
       "<Figure size 432x288 with 1 Axes>"
      ]
     },
     "metadata": {
      "needs_background": "light"
     },
     "output_type": "display_data"
    }
   ],
   "source": [
    "plt.hist(arr3, bins=30)"
   ]
  },
  {
   "cell_type": "code",
   "execution_count": 59,
   "metadata": {},
   "outputs": [
    {
     "data": {
      "text/plain": [
       "array([  4.99,   1.99,  12.49,  19.99,  23.95,   4.99, 275.  , 125.  ,\n",
       "         1.29,  15.99,   1.99,   8.99,  19.99,   8.99,   1.29,  19.99,\n",
       "         4.99,   4.99,  19.99,   1.29,   4.99,  15.99,   1.99,   8.99,\n",
       "        19.99,  15.  ,   4.99,   4.99,  19.99,  19.99,   2.99,   4.99,\n",
       "         4.99,   1.99,   1.99,   4.99,   4.99,   1.29,   1.99,   8.99,\n",
       "         8.99, 125.  ,   4.99])"
      ]
     },
     "execution_count": 59,
     "metadata": {},
     "output_type": "execute_result"
    }
   ],
   "source": [
    "arr2"
   ]
  },
  {
   "cell_type": "code",
   "execution_count": 60,
   "metadata": {},
   "outputs": [],
   "source": [
    "arr2.sort()"
   ]
  },
  {
   "cell_type": "code",
   "execution_count": 61,
   "metadata": {},
   "outputs": [
    {
     "data": {
      "text/plain": [
       "array([  1.29,   1.29,   1.29,   1.29,   1.99,   1.99,   1.99,   1.99,\n",
       "         1.99,   1.99,   2.99,   4.99,   4.99,   4.99,   4.99,   4.99,\n",
       "         4.99,   4.99,   4.99,   4.99,   4.99,   4.99,   4.99,   8.99,\n",
       "         8.99,   8.99,   8.99,   8.99,  12.49,  15.  ,  15.99,  15.99,\n",
       "        19.99,  19.99,  19.99,  19.99,  19.99,  19.99,  19.99,  23.95,\n",
       "       125.  , 125.  , 275.  ])"
      ]
     },
     "execution_count": 61,
     "metadata": {},
     "output_type": "execute_result"
    }
   ],
   "source": [
    "arr2"
   ]
  },
  {
   "cell_type": "code",
   "execution_count": 68,
   "metadata": {},
   "outputs": [
    {
     "data": {
      "text/plain": [
       "array([  1.29,   1.29,   1.99,   1.99,   1.99,   1.99,   1.99,   1.99,\n",
       "         2.99,   4.99,   4.99,   4.99,   4.99,   4.99,   4.99,   4.99,\n",
       "         4.99,   4.99,   4.99,   4.99,   4.99,   8.99,   8.99,   8.99,\n",
       "         8.99,   8.99,  12.49,  15.  ,  15.99,  15.99,  19.99,  19.99,\n",
       "        19.99,  19.99,  19.99,  19.99,  19.99,  23.95, 125.  , 125.  ,\n",
       "       275.  ])"
      ]
     },
     "execution_count": 68,
     "metadata": {},
     "output_type": "execute_result"
    }
   ],
   "source": [
    "arr2 = np.delete(arr2, 0)\n",
    "arr2"
   ]
  },
  {
   "cell_type": "code",
   "execution_count": 70,
   "metadata": {},
   "outputs": [
    {
     "data": {
      "text/plain": [
       "2068023150032"
      ]
     },
     "execution_count": 70,
     "metadata": {},
     "output_type": "execute_result"
    }
   ],
   "source": [
    "id(arr2)"
   ]
  },
  {
   "cell_type": "code",
   "execution_count": 71,
   "metadata": {},
   "outputs": [],
   "source": [
    "arr2 = np.delete(arr2, 0)"
   ]
  },
  {
   "cell_type": "code",
   "execution_count": 72,
   "metadata": {},
   "outputs": [
    {
     "data": {
      "text/plain": [
       "2068004534912"
      ]
     },
     "execution_count": 72,
     "metadata": {},
     "output_type": "execute_result"
    }
   ],
   "source": [
    "id(arr2)"
   ]
  },
  {
   "cell_type": "code",
   "execution_count": 73,
   "metadata": {},
   "outputs": [],
   "source": [
    "# Try to use google for help with python and its packages"
   ]
  },
  {
   "cell_type": "code",
   "execution_count": null,
   "metadata": {},
   "outputs": [],
   "source": []
  }
 ],
 "metadata": {
  "kernelspec": {
   "display_name": "Python 3",
   "language": "python",
   "name": "python3"
  },
  "language_info": {
   "codemirror_mode": {
    "name": "ipython",
    "version": 3
   },
   "file_extension": ".py",
   "mimetype": "text/x-python",
   "name": "python",
   "nbconvert_exporter": "python",
   "pygments_lexer": "ipython3",
   "version": "3.7.3"
  }
 },
 "nbformat": 4,
 "nbformat_minor": 2
}
